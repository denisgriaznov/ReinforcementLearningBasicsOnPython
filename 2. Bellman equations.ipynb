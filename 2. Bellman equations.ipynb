{
 "cells": [
  {
   "cell_type": "markdown",
   "id": "796b6a07",
   "metadata": {},
   "source": [
    "## Finite Markov Decision Processes\n",
    "\n",
    "The Markov formalism for decision-making processes can be briefly described in several terms:\n",
    "\n",
    "\n",
    "<b>Agent</b> - a subject that can perform some action\n",
    "\n",
    "\n",
    "<b>Environment</b> - the world with which the agent interacts, which has its own rules\n",
    "\n",
    "\n",
    "<b>State</b> - the current state of the environment, is an element of the set <b>S</b>\n",
    "\n",
    "\n",
    "<b>Action</b> - agent's action, selected from the set <b>A</b>\n",
    "\n",
    "\n",
    "<b>Reward</b> - the reward received by the agent is an element of the set <b>R</b>\n",
    "\n",
    "<img src=\"media/markov_processes.png\" width=600/>\n",
    "\n",
    "At each step <b>t</b>, the Agent receives a reward <b>Rt</b> and the state of the environment <b>St</b>. Based on this data and own <b>policy</b>, the Agent chooses the next action <b>At</b>."
   ]
  },
  {
   "cell_type": "markdown",
   "id": "08013460",
   "metadata": {},
   "source": [
    "## Expected return\n",
    "\n",
    "In general, we seek to maximize the expected return, where the return <b>Gt</b> is defined as some specific function of the reward sequence. In the simplest case the return is the sum of the rewards:\n",
    "\n",
    "<img src=\"media/return.png\" width=400/>\n",
    "\n",
    "The additional concept that we need is that of <b>discounting</b>. According to this approach, the agent tries to select actions so that the sum of the discounted rewards it receives over the future is maximized. In particular, it chooses <b>At</b> to maximize the expected discounted return:\n",
    "\n",
    "<img src=\"media/discounted_return.png\" width=600/>\n"
   ]
  },
  {
   "cell_type": "markdown",
   "id": "c84ab644",
   "metadata": {},
   "source": [
    "## Bellman equation\n",
    "\n",
    "We can iteratively express the value of a state in terms of the values of other states (which can be accessed from this one)\n",
    "\n",
    "<img src=\"media/bellman_equation.png\" width=600/>\n",
    "\n",
    "Accordingly, knowing the dynamics of the environment and the strategy, we can obtain a system of linear equations for the values of the states, which can be solved uniquely."
   ]
  },
  {
   "cell_type": "markdown",
   "id": "0940558c",
   "metadata": {},
   "source": [
    "## Example: Grid world\n",
    "\n",
    "The cells of the grid correspond to the states of the environment. At each cell, four actions are possible: north, south, east, and west, which deterministically cause the agent to move one cell in the respective direction on the grid. Actions that would take the agent off the grid leave its location unchanged, but also result in a reward of <b>−1</b>. Other actions result in a reward of <b>0</b>, except those that move the agent out of the special states <b>A</b> and <b>B</b>. From state <b>A</b>, all four actions yield a reward of <b>+10</b> and take the agent to <b>A'</b>. From state <b>B</b>, all actions yield a reward of <b>+5</b> and take the agent to <b>B'</b>.\n",
    "\n",
    "<img src=\"media/grid_world.png\" width=500/>"
   ]
  },
  {
   "cell_type": "code",
   "execution_count": 1,
   "id": "46a04745",
   "metadata": {},
   "outputs": [],
   "source": [
    "import numpy as np\n",
    "from matplotlib import pyplot as plt"
   ]
  },
  {
   "cell_type": "markdown",
   "id": "bd06033c",
   "metadata": {},
   "source": [
    "### Bellman equations for random policy\n",
    "\n",
    "With equiprobable random policy Agent selects all four actions in all states with probability P=1/4\n",
    "\n",
    "We write the system of Bellman equations for all states (25) in the form of coefficients in front of the values of the states. Then we should get a 25 by 25 matrix. There is also a column of free members of size 25.\n",
    "\n",
    "Let's also start by assuming gamma = 0 (greedy agent)"
   ]
  },
  {
   "cell_type": "markdown",
   "id": "77497a13",
   "metadata": {},
   "source": [
    "### Calculating Bellman equation coeffitients\n",
    "\n",
    "Let's write a function to get the coefficients of the Bellman equation for one state (in line <b>i</b> and column <b>j</b>)\n",
    "\n",
    "<b>gamma</b> - depreciation factor (the smaller it is, the more greedy our strategy is)\n",
    "\n",
    "<b>A, B, A_, B_</b> - selected states according to the condition of the problem\n",
    "\n",
    "<b>grid_side</b> - size of grid side (assumed to be a square)\n"
   ]
  },
  {
   "cell_type": "code",
   "execution_count": 2,
   "id": "a6fb3264",
   "metadata": {},
   "outputs": [],
   "source": [
    "def calculate_value(i, j, gamma, A, B, A_, B_, grid_side=5):\n",
    "    \n",
    "    #coefficients before state values in the Bellman equation \n",
    "    k_value = np.zeros(grid_side**2)\n",
    "    # free value in the Bellman equation\n",
    "    d_value = 0\n",
    "    \n",
    "    # checking special states\n",
    "    if (i, j) == A:\n",
    "        k_value[A_[0] + A_[1] * grid_side] = gamma\n",
    "        d_value = 10\n",
    "    elif (i, j) == B:\n",
    "        k_value[B_[0] + B_[1] * grid_side] = gamma\n",
    "        d_value = 5\n",
    "    else:\n",
    "        # checking border transitions (existence of neighboring cells)\n",
    "        for near_state in [(i+1, j), (i-1, j), (i, j+1), (i, j-1)]:\n",
    "            if near_state in np.ndindex(grid_side,grid_side):\n",
    "                # reward is not awarded\n",
    "                k_value[near_state[0] + near_state[1]*grid_side] = 0.25 * gamma\n",
    "            else:\n",
    "                # reward is -1 and the state stays the same\n",
    "                k_value[i + j * grid_side] = 0.25 * gamma\n",
    "                d_value = d_value - 0.25 * 1       \n",
    "    return k_value, d_value\n",
    "\n",
    "def vizualize_grid_values(v):\n",
    "    fig, ax = plt.subplots()\n",
    "    ax.matshow(v, cmap='summer')\n",
    "    for (i, j), z in np.ndenumerate(v):\n",
    "        ax.text(j, i, '{:0.1f}'.format(z), ha='center', va='center')\n",
    "    plt.show()"
   ]
  },
  {
   "cell_type": "code",
   "execution_count": 3,
   "id": "bf6e26ad",
   "metadata": {},
   "outputs": [],
   "source": [
    "# set specific states\n",
    "A = (1, 0)\n",
    "B = (3, 0)\n",
    "A_ = (1, 4)\n",
    "B_ = (3, 2)"
   ]
  },
  {
   "cell_type": "code",
   "execution_count": 4,
   "id": "ae38a6c3",
   "metadata": {
    "scrolled": false
   },
   "outputs": [],
   "source": [
    "# matrix of coefficients before state values in the Bellman equation system\n",
    "koefs = np.zeros((25,25))\n",
    "# column of free values in the Bellman equation system\n",
    "dependent = np.zeros(25)\n",
    "# greedy strategy\n",
    "gamma = 0\n",
    "\n",
    "for j in range(5):\n",
    "    for i in range(5):\n",
    "        koefs[i + j*5], dependent[i + j*5]  = calculate_value(i, j, gamma, A, B, A_, B_, grid_side=5)\n",
    "        koefs[i + j*5, i + j*5] = koefs[i + j*5, i + j*5] - 1        \n",
    "\n",
    "#print(koefs)\n",
    "#print(dependent)"
   ]
  },
  {
   "cell_type": "code",
   "execution_count": 5,
   "id": "22c99b4e",
   "metadata": {},
   "outputs": [
    {
     "data": {
      "image/png": "[encoded data removed]",
      "text/plain": [
       "<Figure size 432x288 with 1 Axes>"
      ]
     },
     "metadata": {
      "needs_background": "light"
     },
     "output_type": "display_data"
    }
   ],
   "source": [
    "# solve linear equation system via numpy solver\n",
    "v = np.linalg.solve(koefs, -dependent)\n",
    "v = v.reshape((5,5))\n",
    "# this is values of grid world states with equiprobable random policy and gamma=0\n",
    "vizualize_grid_values(v)"
   ]
  },
  {
   "cell_type": "markdown",
   "id": "c1ac2ef7",
   "metadata": {},
   "source": [
    "Change the gamma to 0.9 - this is a less greedy strategy with more long-term planning"
   ]
  },
  {
   "cell_type": "code",
   "execution_count": 6,
   "id": "1ae01410",
   "metadata": {},
   "outputs": [
    {
     "data": {
      "image/png": "[encoded data removed]",
      "text/plain": [
       "<Figure size 432x288 with 1 Axes>"
      ]
     },
     "metadata": {
      "needs_background": "light"
     },
     "output_type": "display_data"
    }
   ],
   "source": [
    "# matrix of coefficients before state values in the Bellman equation system\n",
    "koefs = np.zeros((25,25))\n",
    "# column of free values in the Bellman equation system\n",
    "dependent = np.zeros(25)\n",
    "# greedy strategy\n",
    "gamma = 0.9\n",
    "\n",
    "for j in range(5):\n",
    "    for i in range(5):\n",
    "        koefs[i + j*5], dependent[i + j*5]  = calculate_value(i, j, gamma, A, B, A_, B_, grid_side=5)\n",
    "        koefs[i + j*5, i + j*5] = koefs[i + j*5, i + j*5] - 1       \n",
    "\n",
    "#print(koefs)\n",
    "#print(dependent)\n",
    "# solve linear equation system via numpy solver\n",
    "v = np.linalg.solve(koefs, -dependent)\n",
    "v = v.reshape((5,5))\n",
    "# this is values of grid world states with equiprobable random policy and gamma=0.9\n",
    "vizualize_grid_values(v)"
   ]
  },
  {
   "cell_type": "markdown",
   "id": "0ce5f0b0",
   "metadata": {},
   "source": [
    "## Bellman optimality equation"
   ]
  },
  {
   "cell_type": "markdown",
   "id": "95a1ac1b",
   "metadata": {},
   "source": [
    "We can define an optimal policy as one in which each state has a value greater than (or equal to) any other policy. They share the same state-value function, called the optimal state-value function:\n",
    "\n",
    "<img src=\"media/bellman_optimal_equation.png\" width=500/>\n",
    "\n",
    "However, solution of Bellman optimality equation is rarely directly useful. It is akin to an exhaustive\n",
    "search, looking ahead at all possibilities, computing their probabilities of occurrence and their desirabilities in terms of expected rewards.Imagine that we already know the optimal actions in each state (since it would be too expensive to solve the system directly):\n",
    "\n",
    "<img src=\"media/grid_world_optimal.png\" width=300/>\n",
    "\n",
    "Let's try to find the values of all states from them.\n",
    "To do this, we write a list of possible actions for each state and slightly change the function for obtaining the Bellman equation."
   ]
  },
  {
   "cell_type": "code",
   "execution_count": 16,
   "id": "fa77e3fa",
   "metadata": {},
   "outputs": [],
   "source": [
    "# policy - the probability of actions left, up, right and down for all states\n",
    "policy = np.array([[0, 0, 1, 0],\n",
    "                  [0.25, 0.25, 0.25, 0.25],\n",
    "                  [1, 0, 0, 0],\n",
    "                  [0.25, 0.25, 0.25, 0.25],\n",
    "                  [1, 0, 0, 0],\n",
    "                  [0, 0.5, 0.5, 0],\n",
    "                  [0, 1, 0, 0],\n",
    "                  [0.5, 0.5, 0, 0],\n",
    "                  [1, 0, 0, 0],\n",
    "                  [1, 0, 0, 0],\n",
    "                  [0, 0.5, 0.5, 0],\n",
    "                  [0, 1, 0, 0],\n",
    "                  [0.5, 0.5, 0, 0],\n",
    "                  [0.5, 0.5, 0, 0],\n",
    "                  [0.5, 0.5, 0, 0],\n",
    "                  [0, 0.5, 0.5, 0],\n",
    "                  [0, 1, 0, 0],\n",
    "                  [0.5, 0.5, 0, 0],\n",
    "                  [0.5, 0.5, 0, 0],\n",
    "                  [0.5, 0.5, 0, 0],\n",
    "                  [0, 0.5, 0.5, 0],\n",
    "                  [0, 1, 0, 0],\n",
    "                  [0.5, 0.5, 0, 0],\n",
    "                  [0.5, 0.5, 0, 0],\n",
    "                  [0.5, 0.5, 0, 0]])"
   ]
  },
  {
   "cell_type": "code",
   "execution_count": 20,
   "id": "600bd893",
   "metadata": {},
   "outputs": [],
   "source": [
    "def calculate_value_by_policy(i, j, gamma, A, B, A_, B_, policy, grid_side=5):\n",
    "    \n",
    "    #coefficients before state values in the Bellman equation \n",
    "    k_value = np.zeros(grid_side**2)\n",
    "    # free value in the Bellman equation\n",
    "    d_value = 0\n",
    "    \n",
    "    # checking special states\n",
    "    if (i, j) == A:\n",
    "        k_value[A_[0] + A_[1] * grid_side] = gamma\n",
    "        d_value = 10\n",
    "    elif (i, j) == B:\n",
    "        k_value[B_[0] + B_[1] * grid_side] = gamma\n",
    "        d_value = 5\n",
    "    else:\n",
    "        action_probs = policy[i + j * grid_side]\n",
    "        if (action_probs[0]!=0):\n",
    "            k_value[(i - 1) + j * grid_side] = action_probs[0] * gamma\n",
    "        if (action_probs[1]!=0):\n",
    "            k_value[(i) + (j - 1) * grid_side] = action_probs[1] * gamma\n",
    "        if (action_probs[2]!=0):\n",
    "            k_value[(i + 1) + j * grid_side] = action_probs[2] * gamma\n",
    "        if (action_probs[3]!=0):\n",
    "            k_value[(i) + (j + 1) * grid_side] = action_probs[3] * gamma\n",
    "    \n",
    "    return k_value, d_value"
   ]
  },
  {
   "cell_type": "code",
   "execution_count": 23,
   "id": "1a179069",
   "metadata": {},
   "outputs": [
    {
     "data": {
      "image/png": "[encoded data removed]",
      "text/plain": [
       "<Figure size 432x288 with 1 Axes>"
      ]
     },
     "metadata": {
      "needs_background": "light"
     },
     "output_type": "display_data"
    }
   ],
   "source": [
    "# matrix of coefficients before state values in the Bellman equation system\n",
    "koefs = np.zeros((25,25))\n",
    "# column of free values in the Bellman equation system\n",
    "dependent = np.zeros(25)\n",
    "# greedy strategy\n",
    "gamma = 0.9\n",
    "\n",
    "for j in range(5):\n",
    "    for i in range(5):\n",
    "        koefs[i + j*5], dependent[i + j*5]  = calculate_value_by_policy(i, j, gamma, A, B, A_, B_, policy, grid_side=5)\n",
    "        koefs[i + j*5, i + j*5] = koefs[i + j*5, i + j*5] - 1       \n",
    "\n",
    "#print(koefs)\n",
    "#print(dependent)\n",
    "# solve linear equation system via numpy solver\n",
    "v = np.linalg.solve(koefs, -dependent)\n",
    "v = v.reshape((5,5))\n",
    "# this is values of grid world states with equiprobable random policy and gamma=0.9\n",
    "vizualize_grid_values(v)"
   ]
  },
  {
   "cell_type": "markdown",
   "id": "1553d607",
   "metadata": {},
   "source": [
    "## Conclusion\n",
    "\n",
    "In this notebook, the Bellman equations and their solutions were analyzed in cases where we fully know the dynamics of the system, and also the state space is not very large. However, even for known systems, applying a pure solution to a system of equations is often difficult. For example, above, we did not calculate the optimal strategy, which would require enumeration of many parameters. In the next section, we will show how optimal action values (or policies) can be iteratively arrived at using dynamic programming."
   ]
  }
 ],
 "metadata": {
  "kernelspec": {
   "display_name": "Python 3 (ipykernel)",
   "language": "python",
   "name": "python3"
  },
  "language_info": {
   "codemirror_mode": {
    "name": "ipython",
    "version": 3
   },
   "file_extension": ".py",
   "mimetype": "text/x-python",
   "name": "python",
   "nbconvert_exporter": "python",
   "pygments_lexer": "ipython3",
   "version": "3.10.4"
  }
 },
 "nbformat": 4,
 "nbformat_minor": 5
}
