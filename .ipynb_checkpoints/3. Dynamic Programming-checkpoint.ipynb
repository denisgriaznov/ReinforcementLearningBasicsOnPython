{
 "cells": [
  {
   "cell_type": "code",
   "execution_count": 1,
   "id": "b6ec50e0",
   "metadata": {},
   "outputs": [],
   "source": [
    "import numpy as np\n",
    "from matplotlib import pyplot as plt"
   ]
  },
  {
   "attachments": {},
   "cell_type": "markdown",
   "id": "90b5a05d",
   "metadata": {},
   "source": [
    "## Iterative Policy Evaluation\n",
    "\n",
    "<img src=\"media/policy_evaluation.png\" width=500/>\n"
   ]
  },
  {
   "cell_type": "markdown",
   "id": "305a529b",
   "metadata": {},
   "source": [
    "## Grid World example"
   ]
  },
  {
   "cell_type": "code",
   "execution_count": 38,
   "id": "d02b46e5",
   "metadata": {},
   "outputs": [],
   "source": [
    "class GridWorld:\n",
    "    \n",
    "    def __init__(self, side=4, terminate_states=[0, 15]):\n",
    "        \n",
    "        self.side = side\n",
    "        self.terminate_states = terminate_states\n",
    "        self.actions = np.array([[-1, 0], [1, 0], [0, 1], [0, -1]])\n",
    "        self.state_values = np.zeros(self.side ** 2)\n",
    "        self.greedy_action_probs = np.zeros((len(self.state_values), 4))\n",
    "    \n",
    "    def index_by_2d(self, i, j):\n",
    "        return i * self.side + j\n",
    "    \n",
    "    def update_greedy_action_probs(self):\n",
    "        for i in range(self.side):\n",
    "            for j in range(self.side):\n",
    "                next_values = np.zeros(4)\n",
    "                state_probs = np.zeros(4)\n",
    "                index = self.index_by_2d(i, j)\n",
    "                for a in range(4):\n",
    "                    next_state, reward = self.make_action(state=np.array([i, j]), action=self.actions[a])\n",
    "                    next_values[a] = self.state_values[self.index_by_2d(next_state[0], next_state[1])]\n",
    "                max_indices = np.flatnonzero(next_values == np.max(next_values))\n",
    "                greedy_prob = 1 / len(max_indices)\n",
    "                for max_index in max_indices:\n",
    "                    state_probs[max_index] = greedy_prob\n",
    "                self.greedy_action_probs[index] = state_probs\n",
    "\n",
    "    \n",
    "    def make_action(self, state, action):\n",
    "        indices = np.indices((self.side, self.side))\n",
    "        next_state = state + action\n",
    "        reward = -1\n",
    "        if (next_state[0] not in range(self.side)) or (next_state[1] not in range(self.side)):\n",
    "            next_state = state\n",
    "        return next_state, reward\n",
    "    \n",
    "    def step(self, old_v):\n",
    "        new_v = np.zeros(len(old_v))\n",
    "        for i in range(self.side):\n",
    "            for j in range(self.side):\n",
    "                index = self.index_by_2d(i, j)\n",
    "                if index in self.terminate_states:\n",
    "                    new_v[index] = 0\n",
    "                else:\n",
    "                    for a in range(4):\n",
    "                        next_state, reward = self.make_action(state=np.array([i, j]), action=self.actions[a])\n",
    "                        new_v[index] = new_v[index] + self.greedy_action_probs[index, a] * (old_v[index_by_2d(next_state[0], next_state[1])] + reward)\n",
    "        return new_v\n",
    "\n",
    "    def update_state_values(self, steps=1000):\n",
    "        values = self.state_values\n",
    "        for i in range(steps):\n",
    "            values = self.step(values)\n",
    "        self.state_values = values\n",
    "        return values\n",
    "    \n",
    "    def vizualize_grid_values(self):\n",
    "        fig, ax = plt.subplots()\n",
    "        ax.matshow(self.state_values.reshape((4,4)), cmap='summer')\n",
    "        for (i, j), z in np.ndenumerate(self.state_values.reshape((4,4))):\n",
    "            ax.text(j, i, '{:0.1f}'.format(z), ha='center', va='center')\n",
    "        plt.show()"
   ]
  },
  {
   "cell_type": "markdown",
   "id": "a8efd456",
   "metadata": {},
   "source": [
    "## Application of Iterative Policy Evaluation with an equiprobable random strategy"
   ]
  },
  {
   "cell_type": "markdown",
   "id": "7513ac6c",
   "metadata": {},
   "source": [
    "#### Step 1"
   ]
  },
  {
   "cell_type": "code",
   "execution_count": 43,
   "id": "92df887c",
   "metadata": {},
   "outputs": [
    {
     "data": {
      "image/png": "[encoded data removed]",
      "text/plain": [
       "<Figure size 432x288 with 1 Axes>"
      ]
     },
     "metadata": {
      "needs_background": "light"
     },
     "output_type": "display_data"
    }
   ],
   "source": [
    "grid_world = GridWorld()\n",
    "grid_world.vizualize_grid_values()"
   ]
  },
  {
   "cell_type": "markdown",
   "id": "be6ba294",
   "metadata": {},
   "source": [
    "#### Step 1"
   ]
  },
  {
   "cell_type": "code",
   "execution_count": 45,
   "id": "21a0e5a8",
   "metadata": {},
   "outputs": [
    {
     "data": {
      "image/png": "[encoded data removed]",
      "text/plain": [
       "<Figure size 432x288 with 1 Axes>"
      ]
     },
     "metadata": {
      "needs_background": "light"
     },
     "output_type": "display_data"
    }
   ],
   "source": [
    "grid_world = GridWorld()\n",
    "grid_world.update_greedy_action_probs()\n",
    "grid_world.update_state_values(steps=1)\n",
    "grid_world.vizualize_grid_values()"
   ]
  },
  {
   "cell_type": "markdown",
   "id": "131e68d2",
   "metadata": {},
   "source": [
    "#### Step 2"
   ]
  },
  {
   "cell_type": "code",
   "execution_count": 46,
   "id": "7b46b3a6",
   "metadata": {},
   "outputs": [
    {
     "data": {
      "image/png": "[encoded data removed]",
      "text/plain": [
       "<Figure size 432x288 with 1 Axes>"
      ]
     },
     "metadata": {
      "needs_background": "light"
     },
     "output_type": "display_data"
    }
   ],
   "source": [
    "grid_world = GridWorld()\n",
    "grid_world.update_greedy_action_probs()\n",
    "grid_world.update_state_values(steps=2)\n",
    "grid_world.vizualize_grid_values()"
   ]
  },
  {
   "cell_type": "markdown",
   "id": "0afe6c84",
   "metadata": {},
   "source": [
    "#### Step 3"
   ]
  },
  {
   "cell_type": "code",
   "execution_count": 47,
   "id": "829848f4",
   "metadata": {},
   "outputs": [
    {
     "data": {
      "image/png": "[encoded data removed]",
      "text/plain": [
       "<Figure size 432x288 with 1 Axes>"
      ]
     },
     "metadata": {
      "needs_background": "light"
     },
     "output_type": "display_data"
    }
   ],
   "source": [
    "grid_world = GridWorld()\n",
    "grid_world.update_greedy_action_probs()\n",
    "grid_world.update_state_values(steps=3)\n",
    "grid_world.vizualize_grid_values()"
   ]
  },
  {
   "cell_type": "markdown",
   "id": "fa9ca0e6",
   "metadata": {},
   "source": [
    "#### Step 1000"
   ]
  },
  {
   "cell_type": "code",
   "execution_count": 48,
   "id": "d8841ae9",
   "metadata": {
    "scrolled": true
   },
   "outputs": [
    {
     "data": {
      "image/png": "[encoded data removed]",
      "text/plain": [
       "<Figure size 432x288 with 1 Axes>"
      ]
     },
     "metadata": {
      "needs_background": "light"
     },
     "output_type": "display_data"
    }
   ],
   "source": [
    "grid_world = GridWorld()\n",
    "grid_world.update_greedy_action_probs()\n",
    "grid_world.update_state_values(steps=1000)\n",
    "grid_world.vizualize_grid_values()"
   ]
  },
  {
   "cell_type": "markdown",
   "id": "5c41906f",
   "metadata": {},
   "source": [
    "## Policy Improvement and Policy Iteration\n",
    "<img src=\"media/policy_iteration.png\" width=500/>\n"
   ]
  },
  {
   "cell_type": "code",
   "execution_count": 52,
   "id": "a44dcbb9",
   "metadata": {},
   "outputs": [
    {
     "data": {
      "image/png": "[encoded data removed]",
      "text/plain": [
       "<Figure size 432x288 with 1 Axes>"
      ]
     },
     "metadata": {
      "needs_background": "light"
     },
     "output_type": "display_data"
    },
    {
     "name": "stdout",
     "output_type": "stream",
     "text": [
      "[[0.25 0.25 0.25 0.25]\n",
      " [0.25 0.25 0.25 0.25]\n",
      " [0.25 0.25 0.25 0.25]\n",
      " [0.25 0.25 0.25 0.25]\n",
      " [0.25 0.25 0.25 0.25]\n",
      " [0.25 0.25 0.25 0.25]\n",
      " [0.25 0.25 0.25 0.25]\n",
      " [0.25 0.25 0.25 0.25]\n",
      " [0.25 0.25 0.25 0.25]\n",
      " [0.25 0.25 0.25 0.25]\n",
      " [0.25 0.25 0.25 0.25]\n",
      " [0.25 0.25 0.25 0.25]\n",
      " [0.25 0.25 0.25 0.25]\n",
      " [0.25 0.25 0.25 0.25]\n",
      " [0.25 0.25 0.25 0.25]\n",
      " [0.25 0.25 0.25 0.25]]\n"
     ]
    }
   ],
   "source": [
    "# initialize Grid World and action probabilities\n",
    "grid_world = GridWorld()\n",
    "grid_world.update_greedy_action_probs()\n",
    "grid_world.vizualize_grid_values()\n",
    "print(grid_world.greedy_action_probs)"
   ]
  },
  {
   "cell_type": "code",
   "execution_count": 53,
   "id": "56f2fcdb",
   "metadata": {},
   "outputs": [
    {
     "data": {
      "image/png": "[encoded data removed]",
      "text/plain": [
       "<Figure size 432x288 with 1 Axes>"
      ]
     },
     "metadata": {
      "needs_background": "light"
     },
     "output_type": "display_data"
    },
    {
     "name": "stdout",
     "output_type": "stream",
     "text": [
      "[[0.5 0.  0.  0.5]\n",
      " [0.  0.  0.  1. ]\n",
      " [0.  0.  0.  1. ]\n",
      " [0.  0.5 0.  0.5]\n",
      " [1.  0.  0.  0. ]\n",
      " [0.  0.  0.  1. ]\n",
      " [0.  0.5 0.  0.5]\n",
      " [0.  1.  0.  0. ]\n",
      " [1.  0.  0.  0. ]\n",
      " [0.5 0.  0.5 0. ]\n",
      " [0.  0.  1.  0. ]\n",
      " [0.  1.  0.  0. ]\n",
      " [0.5 0.  0.5 0. ]\n",
      " [0.  0.  1.  0. ]\n",
      " [0.  0.  1.  0. ]\n",
      " [0.  0.5 0.5 0. ]]\n"
     ]
    }
   ],
   "source": [
    "# make step of policy iteration\n",
    "grid_world.update_state_values()\n",
    "grid_world.update_greedy_action_probs()\n",
    "grid_world.vizualize_grid_values()\n",
    "print(grid_world.greedy_action_probs)"
   ]
  },
  {
   "cell_type": "code",
   "execution_count": 54,
   "id": "e7bbb848",
   "metadata": {},
   "outputs": [
    {
     "data": {
      "image/png": "[encoded data removed]",
      "text/plain": [
       "<Figure size 432x288 with 1 Axes>"
      ]
     },
     "metadata": {
      "needs_background": "light"
     },
     "output_type": "display_data"
    },
    {
     "name": "stdout",
     "output_type": "stream",
     "text": [
      "[[0.5  0.   0.   0.5 ]\n",
      " [0.   0.   0.   1.  ]\n",
      " [0.   0.   0.   1.  ]\n",
      " [0.   0.5  0.   0.5 ]\n",
      " [1.   0.   0.   0.  ]\n",
      " [0.5  0.   0.   0.5 ]\n",
      " [0.25 0.25 0.25 0.25]\n",
      " [0.   1.   0.   0.  ]\n",
      " [1.   0.   0.   0.  ]\n",
      " [0.25 0.25 0.25 0.25]\n",
      " [0.   0.5  0.5  0.  ]\n",
      " [0.   1.   0.   0.  ]\n",
      " [0.5  0.   0.5  0.  ]\n",
      " [0.   0.   1.   0.  ]\n",
      " [0.   0.   1.   0.  ]\n",
      " [0.   0.5  0.5  0.  ]]\n"
     ]
    }
   ],
   "source": [
    "# make step of policy iteration\n",
    "grid_world.update_state_values()\n",
    "grid_world.update_greedy_action_probs()\n",
    "grid_world.vizualize_grid_values()\n",
    "print(grid_world.greedy_action_probs)"
   ]
  },
  {
   "cell_type": "code",
   "execution_count": 55,
   "id": "0aa6145a",
   "metadata": {},
   "outputs": [
    {
     "data": {
      "image/png": "[encoded data removed]",
      "text/plain": [
       "<Figure size 432x288 with 1 Axes>"
      ]
     },
     "metadata": {
      "needs_background": "light"
     },
     "output_type": "display_data"
    },
    {
     "name": "stdout",
     "output_type": "stream",
     "text": [
      "[[0.5  0.   0.   0.5 ]\n",
      " [0.   0.   0.   1.  ]\n",
      " [0.   0.   0.   1.  ]\n",
      " [0.   0.5  0.   0.5 ]\n",
      " [1.   0.   0.   0.  ]\n",
      " [0.5  0.   0.   0.5 ]\n",
      " [0.25 0.25 0.25 0.25]\n",
      " [0.   1.   0.   0.  ]\n",
      " [1.   0.   0.   0.  ]\n",
      " [0.25 0.25 0.25 0.25]\n",
      " [0.   0.5  0.5  0.  ]\n",
      " [0.   1.   0.   0.  ]\n",
      " [0.5  0.   0.5  0.  ]\n",
      " [0.   0.   1.   0.  ]\n",
      " [0.   0.   1.   0.  ]\n",
      " [0.   0.5  0.5  0.  ]]\n"
     ]
    }
   ],
   "source": [
    "# make step of policy iteration\n",
    "grid_world.update_state_values()\n",
    "grid_world.update_greedy_action_probs()\n",
    "grid_world.vizualize_grid_values()\n",
    "print(grid_world.greedy_action_probs)"
   ]
  },
  {
   "cell_type": "code",
   "execution_count": null,
   "id": "f364e6d0",
   "metadata": {},
   "outputs": [],
   "source": []
  }
 ],
 "metadata": {
  "kernelspec": {
   "display_name": "Python 3 (ipykernel)",
   "language": "python",
   "name": "python3"
  },
  "language_info": {
   "codemirror_mode": {
    "name": "ipython",
    "version": 3
   },
   "file_extension": ".py",
   "mimetype": "text/x-python",
   "name": "python",
   "nbconvert_exporter": "python",
   "pygments_lexer": "ipython3",
   "version": "3.10.4"
  }
 },
 "nbformat": 4,
 "nbformat_minor": 5
}
